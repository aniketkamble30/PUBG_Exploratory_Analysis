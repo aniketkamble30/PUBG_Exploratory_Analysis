{
  "nbformat": 4,
  "nbformat_minor": 0,
  "metadata": {
    "colab": {
      "name": "PUBG_Exploratory_Analysis.ipynb",
      "provenance": [],
      "collapsed_sections": []
    },
    "kernelspec": {
      "name": "python3",
      "display_name": "Python 3"
    },
    "accelerator": "GPU"
  },
  "cells": [
    {
      "cell_type": "code",
      "metadata": {
        "colab": {
          "base_uri": "https://localhost:8080/"
        },
        "id": "7o4bzK-HhC58",
        "outputId": "98ddce34-0290-4ee9-dd7c-6a3db6a8e728"
      },
      "source": [
        "import os\n",
        "os.environ['KAGGLE_CONFIG_DIR'] = \"/content/Kaggle\"\n",
        "%cd /content/Kaggle\n",
        "!kaggle datasets download -d skihikingkevin/pubg-match-deaths\n",
        "!unzip \\*.zip  && rm *.zip"
      ],
      "execution_count": 2,
      "outputs": [
        {
          "output_type": "stream",
          "text": [
            "/content/Kaggle\n",
            "Warning: Your Kaggle API key is readable by other users on this system! To fix this, you can run 'chmod 600 /content/Kaggle/kaggle.json'\n",
            "Downloading pubg-match-deaths.zip to /content/Kaggle\n",
            "100% 4.10G/4.10G [01:24<00:00, 54.0MB/s]\n",
            "100% 4.10G/4.10G [01:24<00:00, 52.0MB/s]\n",
            "Archive:  pubg-match-deaths.zip\n",
            "  inflating: aggregate/agg_match_stats_0.csv  \n",
            "  inflating: aggregate/agg_match_stats_1.csv  \n",
            "  inflating: aggregate/agg_match_stats_2.csv  \n",
            "  inflating: aggregate/agg_match_stats_3.csv  \n",
            "  inflating: aggregate/agg_match_stats_4.csv  \n",
            "  inflating: deaths/kill_match_stats_final_0.csv  \n",
            "  inflating: deaths/kill_match_stats_final_1.csv  \n",
            "  inflating: deaths/kill_match_stats_final_2.csv  \n",
            "  inflating: deaths/kill_match_stats_final_3.csv  \n",
            "  inflating: deaths/kill_match_stats_final_4.csv  \n",
            "  inflating: erangel.jpg             \n",
            "  inflating: miramar.jpg             \n"
          ],
          "name": "stdout"
        }
      ]
    },
    {
      "cell_type": "markdown",
      "metadata": {
        "id": "AnPW0-b82KpH"
      },
      "source": [
        "## Import Required Libraries"
      ]
    },
    {
      "cell_type": "code",
      "metadata": {
        "id": "8TmJ-km6hlc8"
      },
      "source": [
        "import pandas as pd\n",
        "import numpy as np\n",
        "import matplotlib.pyplot as plt\n",
        "import seaborn as sns\n",
        "import random as r\n",
        "import warnings\n",
        "\n",
        "!pip install lifelines\n",
        "import statistics\n",
        "from sklearn.impute import SimpleImputer\n",
        "from lifelines import KaplanMeierFitter, CoxPHFitter\n",
        "from lifelines.statistics import logrank_test\n",
        "from scipy import stats"
      ],
      "execution_count": 1,
      "outputs": []
    },
    {
      "cell_type": "markdown",
      "metadata": {
        "id": "zKPCZO3L2UL7"
      },
      "source": [
        "## Read CSV File into Data Frame"
      ]
    },
    {
      "cell_type": "code",
      "metadata": {
        "id": "4m1kMe0slVjB"
      },
      "source": [
        "df = pd.read_csv(\"/content/Kaggle/aggregate/agg_match_stats_0.csv\")\n",
        "df_filtered = df[df[\"player_survive_time\"] < 2100]"
      ],
      "execution_count": 2,
      "outputs": []
    },
    {
      "cell_type": "markdown",
      "metadata": {
        "id": "BuUXHquY2e_1"
      },
      "source": [
        "## Plot 1 - Team Types in Dataset\n"
      ]
    },
    {
      "cell_type": "code",
      "metadata": {
        "colab": {
          "base_uri": "https://localhost:8080/",
          "height": 628
        },
        "id": "rSkOM99Xlr1e",
        "outputId": "e18a768d-afc2-4a0d-c570-83bd1ce5fb47"
      },
      "source": [
        "values = df_filtered['party_size'].value_counts(normalize=True)\n",
        "arr_x = np.array(['SOLO', 'DUO', 'SQUAD'])\n",
        "arr_y = np.array([0.209273, 0.320976, 0.469752])\n",
        "data = np.array([arr_y, np.array(values)])\n",
        "\n",
        "fig_dims = (6, 10)\n",
        "fig, ax = plt.subplots(figsize=fig_dims)\n",
        "plot = sns.barplot(x=arr_x, y=arr_y, ax=ax)\n",
        "plot.set(ylim=(0, 0.6))\n",
        "plot.set_title('Team Type', fontsize=18, weight='semibold')"
      ],
      "execution_count": 6,
      "outputs": [
        {
          "output_type": "execute_result",
          "data": {
            "text/plain": [
              "Text(0.5, 1.0, 'Team Type')"
            ]
          },
          "metadata": {
            "tags": []
          },
          "execution_count": 6
        },
        {
          "output_type": "display_data",
          "data": {
            "image/png": "[encoded data removed]",
            "text/plain": [
              "<Figure size 432x720 with 1 Axes>"
            ]
          },
          "metadata": {
            "tags": [],
            "needs_background": "light"
          }
        }
      ]
    },
    {
      "cell_type": "markdown",
      "metadata": {
        "id": "epw4a8qs2mxf"
      },
      "source": [
        "## Plot 2 - Players Drive or Walk"
      ]
    },
    {
      "cell_type": "code",
      "metadata": {
        "colab": {
          "base_uri": "https://localhost:8080/",
          "height": 695
        },
        "id": "2H1mFiCOls-X",
        "outputId": "88c7d798-8c78-48a6-a96b-0490f28c7d7d"
      },
      "source": [
        "walking_only = df_filtered[(df_filtered[\"player_dist_walk\"] > 0) & (df_filtered[\"player_dist_ride\"] == 0)]\n",
        "Walk_and_drive = df_filtered[(df[\"player_dist_walk\"] > 0) & (df_filtered[\"player_dist_ride\"] > 0)]\n",
        "arr_x = np.array([\"Walk Only\", \"Walk & Drive\"])\n",
        "arr_y = np.array([len(walking_only), len(Walk_and_drive)])\n",
        "\n",
        "arr_y = arr_y/np.linalg.norm(arr_y)  # Normalize the Data to get values between 0 & 1\n",
        "data = np.array([arr_y, arr_x])\n",
        "\n",
        "fig_dims = (6, 10)\n",
        "fig, ax = plt.subplots(figsize=fig_dims)\n",
        "plot = sns.barplot(x=arr_x, y=arr_y, ax=ax)\n",
        "plot.set(ylim=(0, 1))\n",
        "plot.set_title('Driving or not', fontsize=18, weight='semibold')"
      ],
      "execution_count": 7,
      "outputs": [
        {
          "output_type": "stream",
          "text": [
            "/usr/local/lib/python3.6/dist-packages/ipykernel_launcher.py:1: UserWarning: Boolean Series key will be reindexed to match DataFrame index.\n",
            "  \"\"\"Entry point for launching an IPython kernel.\n",
            "/usr/local/lib/python3.6/dist-packages/ipykernel_launcher.py:3: UserWarning: Boolean Series key will be reindexed to match DataFrame index.\n",
            "  This is separate from the ipykernel package so we can avoid doing imports until\n"
          ],
          "name": "stderr"
        },
        {
          "output_type": "execute_result",
          "data": {
            "text/plain": [
              "Text(0.5, 1.0, 'Driving or not')"
            ]
          },
          "metadata": {
            "tags": []
          },
          "execution_count": 7
        },
        {
          "output_type": "display_data",
          "data": {
            "image/png": "[encoded data removed]",
            "text/plain": [
              "<Figure size 432x720 with 1 Axes>"
            ]
          },
          "metadata": {
            "tags": [],
            "needs_background": "light"
          }
        }
      ]
    },
    {
      "cell_type": "markdown",
      "metadata": {
        "id": "0a34H8IO2s6E"
      },
      "source": [
        "## Plot 3 - Size of Game (Number of players playing at once)"
      ]
    },
    {
      "cell_type": "code",
      "metadata": {
        "colab": {
          "base_uri": "https://localhost:8080/",
          "height": 628
        },
        "id": "_9SgsVjPlu59",
        "outputId": "1e4185c5-19bb-43b4-b94b-89ad50f53200"
      },
      "source": [
        "small_game = df_filtered[\"game_size\"] < 33\n",
        "medium_game = df_filtered[(df_filtered[\"game_size\"] >= 33) & (df_filtered[\"game_size\"] < 66)]\n",
        "big_game = df_filtered[\"game_size\"] >= 66\n",
        "\n",
        "arr_x = np.array([\"SMALL\", \"MEDIUM\", \"BIG\"])\n",
        "arr_y = np.array([len(small_game), len(medium_game), len(big_game)])\n",
        "\n",
        "arr_y = arr_y/np.linalg.norm(arr_y)   # Normalize the data\n",
        "data = np.array([arr_y, arr_x])\n",
        "\n",
        "fig_dims = (6, 10)\n",
        "fig, ax = plt.subplots(figsize=fig_dims)\n",
        "plot = sns.barplot(x=arr_x, y=arr_y, ax=ax)\n",
        "plot.set(ylim=(0, 1))\n",
        "plot.set_title('Play Size', fontsize=18, weight='semibold')"
      ],
      "execution_count": 8,
      "outputs": [
        {
          "output_type": "execute_result",
          "data": {
            "text/plain": [
              "Text(0.5, 1.0, 'Play Size')"
            ]
          },
          "metadata": {
            "tags": []
          },
          "execution_count": 8
        },
        {
          "output_type": "display_data",
          "data": {
            "image/png": "[encoded data removed]",
            "text/plain": [
              "<Figure size 432x720 with 1 Axes>"
            ]
          },
          "metadata": {
            "tags": [],
            "needs_background": "light"
          }
        }
      ]
    },
    {
      "cell_type": "markdown",
      "metadata": {
        "id": "eeydLceb18G1"
      },
      "source": [
        "# Preprocessing for Survive Time and Party Size"
      ]
    },
    {
      "cell_type": "code",
      "metadata": {
        "colab": {
          "base_uri": "https://localhost:8080/"
        },
        "id": "_eRC9HjRmll3",
        "outputId": "7516bb19-17fc-479b-fbec-37725a4d04d9"
      },
      "source": [
        "mean = SimpleImputer(missing_values = np.nan, strategy = 'mean')\n",
        "aggregate_stats_5_filtered_4_size = aggregate_stats_5_filtered[aggregate_stats_5_filtered['party_size'] == 4]\n",
        "Columns = ['player_survive_time', 'party_size']\n",
        "X = mean.fit_transform(aggregate_stats_5_filtered_4_size[Columns])\n",
        "df_X = pd.DataFrame(X,\n",
        "                    columns = Columns)\n",
        "keep = ['player_survive_time', 'party_size']\n",
        "df_keepcolumn = aggregate_stats_5_filtered_4_size[keep]\n",
        "df = pd.concat([df_keepcolumn, df_X], axis = 1)\n",
        "df = df.dropna() \n",
        "print(df.isnull().sum())  # Print isnull present or not\n",
        "print(df.shape)"
      ],
      "execution_count": 5,
      "outputs": [
        {
          "output_type": "stream",
          "text": [
            "player_survive_time    0\n",
            "party_size             0\n",
            "player_survive_time    0\n",
            "party_size             0\n",
            "dtype: int64\n",
            "(3064935, 4)\n"
          ],
          "name": "stdout"
        }
      ]
    },
    {
      "cell_type": "markdown",
      "metadata": {
        "id": "YfmCeH_c29O9"
      },
      "source": [
        "## Plot 4 - Kaplan Meier Analysis for Survival Rate based on Team Size"
      ]
    },
    {
      "cell_type": "code",
      "metadata": {
        "colab": {
          "base_uri": "https://localhost:8080/",
          "height": 295
        },
        "id": "m_nzmNVMneO3",
        "outputId": "5a850ca5-342b-4502-8fa4-180c1444b908"
      },
      "source": [
        "kmf1 = KaplanMeierFitter()\n",
        "kmf2 = KaplanMeierFitter()\n",
        "kmf4 = KaplanMeierFitter()\n",
        "X= aggregate_stats_5_filtered['player_survive_time']\n",
        "Y1 = aggregate_stats_5_filtered['party_size'] == 1\n",
        "Y2 = aggregate_stats_5_filtered['party_size'] == 2\n",
        "Y4 = aggregate_stats_5_filtered['party_size'] == 4\n",
        "\n",
        "kmf1.fit(X, event_observed = Y1)\n",
        "kmf2.fit(X, event_observed = Y2)\n",
        "kmf4.fit(X, event_observed = Y4)\n",
        "kmf1.plot()\n",
        "kmf2.plot()\n",
        "kmf4.plot()\n",
        "\n",
        "plt.grid()\n",
        "plt.title(\"Kaplan Meier Estimates For Survival Rate based on Team\")\n",
        "plt.xlabel(\"Playing Time\")\n",
        "plt.ylabel(\"Survival Probability\")\n",
        "plt.legend(['SQUAD', 'DUO', 'DUO']) \n",
        "plt.show()"
      ],
      "execution_count": 7,
      "outputs": [
        {
          "output_type": "display_data",
          "data": {
            "image/png": "[encoded data removed]",
            "text/plain": [
              "<Figure size 432x288 with 1 Axes>"
            ]
          },
          "metadata": {
            "tags": [],
            "needs_background": "light"
          }
        }
      ]
    },
    {
      "cell_type": "code",
      "metadata": {
        "id": "5jUr-ne8rfnd"
      },
      "source": [
        ""
      ],
      "execution_count": null,
      "outputs": []
    }
  ]
}